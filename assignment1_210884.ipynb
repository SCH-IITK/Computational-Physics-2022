{
 "cells": [
  {
   "cell_type": "code",
   "execution_count": 1,
   "metadata": {
    "scrolled": false
   },
   "outputs": [
    {
     "name": "stdout",
     "output_type": "stream",
     "text": [
      "5\n",
      "1\n",
      "2\n",
      "3\n",
      "4\n",
      "5\n",
      "[5 4 3 2 1]\n"
     ]
    }
   ],
   "source": [
    "#numpy\n",
    "#Q1\n",
    "import numpy as np\n",
    "N=int(input()) #number of elements in array\n",
    "\n",
    "a=[]\n",
    "for i in range (0,N):\n",
    "    l=int(input())\n",
    "    a.append(l)\n",
    "myarray=np.array(a)\n",
    "D=myarray[::-1]\n",
    "print(D)\n"
   ]
  },
  {
   "cell_type": "code",
   "execution_count": 3,
   "metadata": {},
   "outputs": [
    {
     "name": "stdout",
     "output_type": "stream",
     "text": [
      "the determinant is: \n",
      " 0.0\n"
     ]
    }
   ],
   "source": [
    "#Q2\n",
    "import numpy as np\n",
    "a=np.array([[1,2,3],[1,2,3],[1,2,3]])\n",
    "d=np.linalg.det(a)\n",
    "\n",
    "print('the determinant is: \\n', d)"
   ]
  },
  {
   "cell_type": "code",
   "execution_count": null,
   "metadata": {},
   "outputs": [],
   "source": [
    "#Q3\n",
    "import numpy as np\n",
    "z=np.linspace(0,np.pi*4,100)    \n",
    "t=np.linspace(0,10,100)\n",
    "\n",
    "def xcom(a,t):\n",
    "    return 2E*np.cos(z-t+np.pi/2)\n",
    "def ycom(z,t):\n",
    "    return -1*np.cos(z-t)\n",
    "\n"
   ]
  },
  {
   "cell_type": "code",
   "execution_count": null,
   "metadata": {},
   "outputs": [],
   "source": [
    "#mathplotlib\n",
    "#1\n",
    "import numpy as np\n",
    "import matplotlib.pyplot as plt\n",
    "a=5\n",
    "b=10\n",
    "u=10\n",
    "\n",
    "theta=np.linspace(0,np.pi/2,100)\n",
    "ranges=[]\n",
    "def R(theta):\n",
    "    root=abs(np.sqrt( (u*np.sin(theta))**2  + 2*b*a ))\n",
    "    bracket = u*np.sin(theta)  + root\n",
    "    d= u*np.cos(theta)  * bracket/b\n",
    "    return d\n",
    "for i in theta:\n",
    "    ranges.append(R(i))\n",
    "plt.plot(theta,ranges)\n",
    "\n",
    "plt.show()"
   ]
  },
  {
   "cell_type": "code",
   "execution_count": null,
   "metadata": {},
   "outputs": [],
   "source": [
    "#2\n",
    "\n"
   ]
  },
  {
   "cell_type": "code",
   "execution_count": null,
   "metadata": {},
   "outputs": [],
   "source": []
  }
 ],
 "metadata": {
  "kernelspec": {
   "display_name": "Python 3",
   "language": "python",
   "name": "python3"
  },
  "language_info": {
   "codemirror_mode": {
    "name": "ipython",
    "version": 3
   },
   "file_extension": ".py",
   "mimetype": "text/x-python",
   "name": "python",
   "nbconvert_exporter": "python",
   "pygments_lexer": "ipython3",
   "version": "3.6.5"
  }
 },
 "nbformat": 4,
 "nbformat_minor": 2
}
