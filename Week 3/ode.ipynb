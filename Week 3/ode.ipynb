{
 "cells": [
  {
   "cell_type": "markdown",
   "id": "407b896f",
   "metadata": {},
   "source": [
    "# Ordinary Differential Equations\n",
    "## Euler's method\n",
    "An ODE is solved numerically by starting with an initial\n",
    "value of the dependent variable $y(t = 0) ≡ y_0$, and using the derivative function $f(t, y)$\n",
    "to advance $y_0$ one small step h forward in time to $y(t = h) ≡ y_1$. The algorithm then\n",
    "just keeps repeating itself, treating the new values for $y$ as new initial conditions for\n",
    "the next step. Euler’s rule does this via a straightforward application of the forward-difference algorithm for the derivative:\n",
    "$$y_{n+1} \\approx y_n + hf(t_n,y_n)$$\n",
    "here $y_n ≡ y(t_n)$ is the value of y at time $t_n$. Aside from its use in initiating other\n",
    "algorithms, Euler’s method is not accurate enough for scientific work. The error here goes as $h^2$ (can be seen from taylor series expansion). "
   ]
  },
  {
   "cell_type": "code",
   "execution_count": null,
   "id": "ee37f7b5",
   "metadata": {},
   "outputs": [],
   "source": []
  },
  {
   "cell_type": "markdown",
   "id": "4c3192da",
   "metadata": {},
   "source": [
    "## Runge-Kutta Methods\n",
    "The most popular and stable general technique of solving ODE’s is a set of methods known as “Runge-Kutta” methods. Of these family of methods the fourth-order Runge-Kutta method (rk4) is proven to be robust and capable of industrial strength work. The algorithm is based upon the formal integral of the\n",
    "differential equation:\n",
    "$\\frac{dy}{dt}=f(t,y) \\Rightarrow y(t) = \\int f(t,y)dy \\Rightarrow y_{n+1} = y_n + \\int_{t_n}^{t_{n+1}} f(t,y) dt$. The critical idea here is to expand the integrand around the midpoint of the integration interval and thereby obtain fourth-order error precision via the cancellation of the $h$ and $h^3$ terms. "
   ]
  },
  {
   "cell_type": "markdown",
   "id": "7db68f43",
   "metadata": {},
   "source": [
    "Let's look at the mechanism of second-order Runge-Kutta method. For this, we define y as the function we’re looking for, and g as the derivative of y. Now\n",
    "g is in general a function of both y and t, so the second derivative of y is,\n",
    "using the chain rule\n",
    "$$y'' = \\frac{d}{dt}y' = \\frac{d}{dt}g(y,t) = \\frac{\\partial g}{\\partial t} + \\frac{\\partial g}{\\partial y} \\frac{dy}{dt}$$\n",
    "\n",
    "where $g_k = \\frac{\\partial g}{\\partial t}$"
   ]
  },
  {
   "cell_type": "markdown",
   "id": "ba4faf55",
   "metadata": {},
   "source": [
    "Similarily $y''' = g_{tt} + 2gg_{ty} + g^2 g_{yy} + g g_y^2 + g_t g_y$"
   ]
  },
  {
   "cell_type": "markdown",
   "id": "825dac76",
   "metadata": {},
   "source": [
    "Now, The Taylor expansion of $y(t + ∆t)$ is\n",
    "$$y(t + ∆t) = y(t) +g∆t + \\frac{∆t^2}{2!} (g_t + g_yg) + \\frac{∆t^3}{3!} (g_{tt} + 2gg_{ty} + g^2 g_{yy} + g g_y^2 + g_t g_y) + O(∆t^4)$$\n",
    "where $O(∆t^4)$ is fourth order terms and higher."
   ]
  },
  {
   "cell_type": "markdown",
   "id": "d160e3bb",
   "metadata": {},
   "source": [
    "Now, the main idea is to write $y(t)$ as a linear combination of some set of polynomials:\n",
    "$$y(t + ∆t) = y(t) + α_1k_1 + α_2k_2 + · · · + α_nk_n$$\n",
    "such that $k_1 = ∆tg(y, t) \\\\\n",
    "k_2 = ∆tg(y + ν_{21}k_1, t + ν_{21}∆t) \\\\\n",
    "k_3 = ∆tg(y + ν_{31}k_1 + ν_{32}k_2, t + ν_{31}∆t + ν_{32}∆t) \\\\\n",
    ". \\\\ \n",
    ". \\\\ \n",
    ". \\\\\n",
    "k_n = ∆tg(y +\\sum_{l=1}^{n-1}v_{nl}k_l, t +∆t\\sum_{l=1}^{n-1}v_{nl}$\n",
    "\n",
    "where α and ν are parameters to be determined."
   ]
  },
  {
   "cell_type": "markdown",
   "id": "6131ee59",
   "metadata": {},
   "source": [
    "Now, we compare this with the Taylor series expansion we obtained to determine the coefficients.\n",
    "$$y(t + ∆t) = y + α_1k_1 + α_2k_2 \\\\\n",
    "= y + α_1[∆tg(y, t)] + α_2[∆tg(y + ν_{21}k_1), t + ν_{21}∆t]$$"
   ]
  },
  {
   "cell_type": "markdown",
   "id": "2b3b591a",
   "metadata": {},
   "source": [
    "The first and second terms are exact already, so we expand only the\n",
    "third term.\n",
    "$$k_2 = ∆t[g + ν_{21}k_1g_y + ν_{21}∆tg_t + O(∆t^\n",
    "2\n",
    ")]\n",
    "= ∆tg + ν_{21}∆t^\n",
    "2\n",
    "gg_y + ν_{21}∆t^\n",
    "2\n",
    "g_t + O(∆t^\n",
    "3\n",
    ")$$"
   ]
  },
  {
   "cell_type": "markdown",
   "id": "b9aab52b",
   "metadata": {},
   "source": [
    "Substituting this $k_2$ we get\n",
    "$$y(t + ∆t) = y + [(α_1 + α_2)g]∆t + [α_2ν_{21}(gg_y + g_t)]∆t^\n",
    "2$$\n",
    "Comparing this with the taylor series expansion equation, we get the the following equations for our parameters.\n",
    "$$α_1 + α_2 = 1\\\\\n",
    "α_2ν_{21} =\\frac{1}{2}$$\n",
    "There are three unknowns here, and only two equations, so the system\n",
    "is underspecified. We can pick one value, then. If we choose ν_{21} = 1, then\n",
    "α_1 and α_2 are each $\\frac{1}{2}$. These values give us a second-order Runge-Kutta method:\n"
   ]
  },
  {
   "cell_type": "markdown",
   "id": "981e7948",
   "metadata": {},
   "source": [
    "$$y(t + ∆t) = y +\\frac{1}{2}\n",
    "k_1 +\n",
    "\\frac{1}{2}\n",
    "k_2 + O(∆t^3\n",
    ")$$"
   ]
  },
  {
   "cell_type": "markdown",
   "id": "b964fbd8",
   "metadata": {},
   "source": [
    "Conceptually, this second-order Runge-Kutta method is equivalent to\n",
    "taking the average of the slope at t and at t + ∆t and using that average\n",
    "slope in Euler’s method to find the new value $y(t + ∆t)$. Here we give the code for rk2 method:"
   ]
  },
  {
   "cell_type": "code",
   "execution_count": 2,
   "id": "ea9b9566",
   "metadata": {},
   "outputs": [],
   "source": [
    "def rk2a( f, x0, t ):\n",
    "    \"\"\"Second-order Runge-Kutta method to solve x' = f(x,t) with x(t[0]) = x0.\n",
    "\n",
    "    USAGE:\n",
    "        x = rk2a(f, x0, t)\n",
    "\n",
    "    INPUT:\n",
    "        f     - function of x and t equal to dx/dt.  x may be multivalued,\n",
    "                in which case it should a list or a NumPy array.  In this\n",
    "                case f must return a NumPy array with the same dimension\n",
    "                as x.\n",
    "        x0    - the initial condition(s).  Specifies the value of x when\n",
    "                t = t[0].  Can be either a scalar or a list or NumPy array\n",
    "                if a system of equations is being solved.\n",
    "        t     - list or NumPy array of t values to compute solution at.\n",
    "                t[0] is the the initial condition point, and the difference\n",
    "                h=t[i+1]-t[i] determines the step size h.\n",
    "\n",
    "    OUTPUT:\n",
    "        x     - NumPy array containing solution values corresponding to each\n",
    "                entry in t array.  If a system is being solved, x will be\n",
    "                an array of arrays.\n",
    "\n",
    "    NOTES:\n",
    "        This version is based on the algorithm presented in \"Numerical\n",
    "        Analysis\", 6th Edition, by Burden and Faires, Brooks-Cole, 1997.\n",
    "    \"\"\"\n",
    "\n",
    "    n = len( t )\n",
    "    x = numpy.array( [ x0 ] * n )\n",
    "    for i in xrange( n - 1 ):\n",
    "        h = t[i+1] - t[i]\n",
    "        k1 = h * f( x[i], t[i] ) / 2.0\n",
    "        x[i+1] = x[i] + h * f( x[i] + k1, t[i] + h / 2.0 )\n",
    "\n",
    "    return x"
   ]
  },
  {
   "cell_type": "markdown",
   "id": "771d6b2b",
   "metadata": {},
   "source": [
    "As you can guess from what we said before, the taylor series can be expanded to obtain higher-order Runge-Kutta methods.The fourth-order Runge Kutta method formula is as follows.\n",
    "$$y (t + ∆t) = y (t) + \\frac{1}{6}\n",
    "(k_1 + 2k_2 + 2k_3 + k_4) + O(∆t^4)\n",
    "$$"
   ]
  },
  {
   "cell_type": "code",
   "execution_count": null,
   "id": "5f186cd6",
   "metadata": {},
   "outputs": [],
   "source": []
  }
 ],
 "metadata": {
  "kernelspec": {
   "display_name": "Python 3",
   "language": "python",
   "name": "python3"
  },
  "language_info": {
   "codemirror_mode": {
    "name": "ipython",
    "version": 3
   },
   "file_extension": ".py",
   "mimetype": "text/x-python",
   "name": "python",
   "nbconvert_exporter": "python",
   "pygments_lexer": "ipython3",
   "version": "3.8.8"
  }
 },
 "nbformat": 4,
 "nbformat_minor": 5
}
