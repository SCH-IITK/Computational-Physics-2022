{
 "cells": [
  {
   "cell_type": "code",
   "execution_count": 3,
   "id": "305068ac",
   "metadata": {},
   "outputs": [
    {
     "data": {
      "image/png": "[encoded data removed]",
      "text/plain": [
       "<Figure size 432x288 with 1 Axes>"
      ]
     },
     "metadata": {
      "needs_background": "light"
     },
     "output_type": "display_data"
    }
   ],
   "source": [
    "import numpy as np\n",
    "import matplotlib.pyplot as plt\n",
    "import math\n",
    "\n",
    " \n",
    "\n",
    "\n",
    "y=[0]*1000\n",
    "v=np.linspace(0,0.75,1000)\n",
    "for i in range(1000):\n",
    "    y[i]=((2*(10**(-15))*((math.exp(v[i]/0.026))-1)))-(2*(10**(-3)))\n",
    "plt.plot(v,y)\n",
    "\n",
    "plt.show()\n",
    "\n",
    "\n",
    "\n"
   ]
  },
  {
   "cell_type": "code",
   "execution_count": 4,
   "id": "ab79bab1",
   "metadata": {},
   "outputs": [
    {
     "name": "stdout",
     "output_type": "stream",
     "text": [
      "0.725   0.0005772977059875909\n"
     ]
    }
   ],
   "source": [
    "def f(x):\n",
    "        return (((2*(10**(-15))*((math.exp(x/0.026))-1)))-(2*(10**(-3))))\n",
    "a=0.7\n",
    "b=0.75\n",
    "error=0.01\n",
    "\n",
    "\n",
    "x=(a+b)/2.0\n",
    "while(abs(f(x))>error):\n",
    "    if(f(x)*f(a)<0):\n",
    "        b=x\n",
    "    else:\n",
    "        a=x\n",
    "    x=(a+b)/2.0   \n",
    "    \n",
    "print(x,\" \",f(x))\n"
   ]
  },
  {
   "cell_type": "code",
   "execution_count": null,
   "id": "4cf9473a",
   "metadata": {},
   "outputs": [],
   "source": []
  }
 ],
 "metadata": {
  "kernelspec": {
   "display_name": "Python 3 (ipykernel)",
   "language": "python",
   "name": "python3"
  },
  "language_info": {
   "codemirror_mode": {
    "name": "ipython",
    "version": 3
   },
   "file_extension": ".py",
   "mimetype": "text/x-python",
   "name": "python",
   "nbconvert_exporter": "python",
   "pygments_lexer": "ipython3",
   "version": "3.9.12"
  }
 },
 "nbformat": 4,
 "nbformat_minor": 5
}
