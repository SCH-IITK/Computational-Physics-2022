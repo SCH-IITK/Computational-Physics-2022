{
 "cells": [
  {
   "cell_type": "code",
   "execution_count": 33,
   "id": "85037357",
   "metadata": {},
   "outputs": [
    {
     "name": "stdout",
     "output_type": "stream",
     "text": [
      "3\n",
      "0.15262654419655497 1.099345327659762e-06\n"
     ]
    }
   ],
   "source": [
    "#ROOT FINDING\n",
    "import numpy as np\n",
    "\n",
    "def f(t): \n",
    "    return 10*np.cos(t)*(np.sin(t) + (1 + (np.sin(t))**2)**0.5) -11.5\n",
    "\n",
    "a= 0.1\n",
    "b= 0.2\n",
    "error=0.00001\n",
    "n1=0\n",
    "\n",
    "#secant method algorithm\n",
    "x=b+f(b)*(b-a)/(f(b)-f(a))\n",
    "while(abs(f(x))>error and n1<10):\n",
    "    a=b\n",
    "    b=x\n",
    "    x=b-f(b)*(b-a)/(f(b)-f(a))\n",
    "    n1=n1+1   \n",
    "\n",
    "print(n1)\n",
    "print(x,f(x))"
   ]
  },
  {
   "cell_type": "code",
   "execution_count": 34,
   "id": "929be471",
   "metadata": {},
   "outputs": [
    {
     "name": "stdout",
     "output_type": "stream",
     "text": [
      "3\n",
      "0.7070660816834298\n"
     ]
    }
   ],
   "source": [
    "def f2(x):\n",
    "    return 0.026* (np.log(10**12) + np.log((2-x)/2))\n",
    "n = 0\n",
    "v = 0.5\n",
    "\n",
    "while(abs(f2(v)-v)> error) and (n<10):\n",
    "    b = v\n",
    "    v = f2(v)\n",
    "    n = n+1\n",
    "print(n)\n",
    "print(v)\n"
   ]
  },
  {
   "cell_type": "code",
   "execution_count": 35,
   "id": "615c24e8",
   "metadata": {},
   "outputs": [
    {
     "name": "stdout",
     "output_type": "stream",
     "text": [
      "0.001\n",
      "centeral difference of cos at 0.1 =  -0.09983340000796481\n",
      "forward difference of cos at 0.1 =  -0.10033090204919493\n",
      "centeral difference of exp at 0.1 =  1.105171102270819e-06\n",
      "froward difference of exp at 0.1 =  1.1057236877758392 \n",
      "\n",
      "centeral difference of cos at 1.0 =  -0.8414708445627084\n",
      "forward difference of cos at 1.0 =  -0.8417409956931188\n",
      "centeral difference of exp at 1.0 =  2.718282281505724e-06\n",
      "froward difference of exp at 1.0 =  2.7196414225332255 \n",
      "\n",
      "centeral difference of cos at 100.0 =  0.5063655567179026\n",
      "forward difference of cos at 100.0 =  0.5059343973177199\n",
      "centeral difference of exp at 100.0 =  2.688117589848433e+37\n",
      "froward difference of exp at 100.0 =  2.6894616485312773e+43 \n",
      "\n"
     ]
    }
   ],
   "source": [
    "#DIFFERENTIATION\n",
    "h = float(input())\n",
    "def c_cos(h,x):\n",
    "    return (np.cos(x+h)- np.cos(x-h))/(2*h)\n",
    "def f_cos(h,x):\n",
    "    return (np.cos(x+h)- np.cos(x))/h\n",
    "def c_e(h,x):\n",
    "    return (np.exp(x+h)- np.exp(x-h))/2*h\n",
    "def f_e(h,x):\n",
    "    return (np.exp(x+h)- np.exp(x))/h\n",
    "a = [0.1, 1., 100.]\n",
    "i=0\n",
    "while(i<3):   \n",
    "    print(\"centeral difference of cos at\",a[i],\"= \",c_cos(h,a[i]))\n",
    "    print(\"forward difference of cos at\",a[i],\"= \",f_cos(h,a[i]))\n",
    "    print(\"centeral difference of exp at\",a[i],\"= \",c_e(h,a[i]))\n",
    "    print(\"froward difference of exp at\",a[i],\"= \",f_e(h,a[i]), \"\\n\")\n",
    "    i=i+1\n",
    "    "
   ]
  },
  {
   "cell_type": "code",
   "execution_count": 36,
   "id": "81851ca7",
   "metadata": {},
   "outputs": [
    {
     "name": "stdout",
     "output_type": "stream",
     "text": [
      "1.772453850902813\n"
     ]
    }
   ],
   "source": [
    "#INTEGRATION\n",
    "def f1(x):\n",
    "    return np.exp(-1*x*x)\n",
    "\n",
    "x = np.linspace(-5,5,10001)\n",
    "I = f1(x[0])\n",
    "for i in range(0,10000):\n",
    "    I = I + f1(x[i])\n",
    "    \n",
    "print (I/1000)  \n"
   ]
  },
  {
   "cell_type": "code",
   "execution_count": 37,
   "id": "b97daa01",
   "metadata": {},
   "outputs": [
    {
     "name": "stdout",
     "output_type": "stream",
     "text": [
      "3.093181993406184\n"
     ]
    }
   ],
   "source": [
    "def f2(x):\n",
    "    #a=np.sin(x)\n",
    "    return np.sin(x)/x\n",
    "\n",
    "y = np.linspace(-50,50,10001)\n",
    "I2 = f2(y[0])\n",
    "for j in range(0,10000):\n",
    "    if (y[j]==0):\n",
    "        continue\n",
    "    I2 = I2 + f2(y[j])\n",
    "    \n",
    "print (I2/100)"
   ]
  },
  {
   "cell_type": "code",
   "execution_count": null,
   "id": "32d6ee14",
   "metadata": {},
   "outputs": [],
   "source": []
  }
 ],
 "metadata": {
  "kernelspec": {
   "display_name": "Python 3 (ipykernel)",
   "language": "python",
   "name": "python3"
  },
  "language_info": {
   "codemirror_mode": {
    "name": "ipython",
    "version": 3
   },
   "file_extension": ".py",
   "mimetype": "text/x-python",
   "name": "python",
   "nbconvert_exporter": "python",
   "pygments_lexer": "ipython3",
   "version": "3.9.12"
  }
 },
 "nbformat": 4,
 "nbformat_minor": 5
}
