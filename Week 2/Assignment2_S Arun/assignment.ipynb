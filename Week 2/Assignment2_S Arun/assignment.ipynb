{
 "cells": [
  {
   "cell_type": "code",
   "execution_count": 6,
   "metadata": {},
   "outputs": [
    {
     "name": "stdout",
     "output_type": "stream",
     "text": [
      "1.77201095888879\n"
     ]
    }
   ],
   "source": [
    "#integral\n",
    "#Q1\n",
    "#part1 ->e^(-x**2)\n",
    "import numpy as np\n",
    "import math as m\n",
    "def f(x):\n",
    "    return m.exp(-x*x)\n",
    "x=np.linspace(-1000,1000,4002)\n",
    "\n",
    "I=f(x[0])\n",
    "\n",
    "for i in range(1,4001,2):\n",
    "    I=I+(4*f(x[i])+2*f(x[i+1]))\n",
    "\n",
    "I=I+f(x[4001])\n",
    "I=I*(2000/(3*4002))\n",
    "\n",
    "print(I)"
   ]
  },
  {
   "cell_type": "code",
   "execution_count": 7,
   "metadata": {},
   "outputs": [
    {
     "name": "stdout",
     "output_type": "stream",
     "text": [
      "3.1395672534860615\n"
     ]
    }
   ],
   "source": [
    "#integral\n",
    "#Q1\n",
    "#part2 ->sin(x)/x\n",
    "import numpy as np\n",
    "import math as m\n",
    "def f(x):\n",
    "    return np.sin(x)/x\n",
    "x=np.linspace(-1000,1000,4002)\n",
    "\n",
    "I=f(x[0])\n",
    "\n",
    "for i in range(1,4001,2):\n",
    "    I=I+(4*f(x[i])+2*f(x[i+1]))\n",
    "\n",
    "I=I+f(x[4001])\n",
    "I=I*(2000/(3*4002))\n",
    "\n",
    "print(I)"
   ]
  },
  {
   "cell_type": "markdown",
   "metadata": {},
   "source": [
    "#differentiation-Q1\n",
    "\n",
    "#forward differentiation(Second order)\n",
    "\n",
    "Taylor series expansion for $f(x)$:\n",
    "\n",
    "$f_{2}(x)=f(x_{0})+(x-x_{0})f'(x_{0})+\\frac{(x-x_{0})^{2}f''(x_{0})}{2!}$\n",
    "\n",
    "i.e.,$f_{2}(x+\\Delta x)=f(x)+\\Delta xf'(x)+\\frac{\\Delta x^{2}f''(x)}{2!}$\n",
    "\n",
    "Therefore, from Taylor's Theorem,\n",
    "\n",
    "$f(x+\\Delta x)=f(x)+\\Delta xf'(x)+\\frac{\\Delta x^{2}f''(x)}{2!}+\\frac{\\Delta x^{3}f'''(\\xi_{1})}{3!}$\n",
    "\n",
    "i.e., $\\frac{f(x+\\Delta x)-f(x)}{\\Delta x}-f'(x)=\\frac{\\Delta x^{1}f''(x)}{2!}+\\frac{\\Delta x^{2}f'''(\\xi_{1})}{3!} \\longrightarrow (1)$\n",
    "\n",
    "Similarly,\n",
    "\n",
    "$f(x+2\\Delta x)=f(x)+(2\\Delta x)f'(x)+\\frac{(2\\Delta x)^{2}f''(x)}{2!}+\\frac{(2\\Delta x)^{3}f'''(\\xi_{2})}{3!}$\n",
    "\n",
    "i.e, $\\frac{f(x+2\\Delta x)-f(x)}{2\\Delta x}-f'(x)=\\frac{(2\\Delta x)^{1}f''(x)}{2!}+\\frac{(2\\Delta x)^{2}f'''(\\xi_{2})}{3!} \\longrightarrow (2)$\n",
    "\n",
    "Eqn$(1)\\times2$-Eqn$(2)$ gives:\n",
    "\n",
    "$\\frac{4f(x+\\Delta x)-3f(x)-f(x+2\\Delta x)}{2\\Delta x}-f'(x)=(\\Delta x)^2\\frac{2f'''(\\xi_{1})-4f'''(\\xi_{2})}{3!}$\n",
    "\n",
    "The error term in the above equation has order of $(\\Delta x)^2$. So, it is called 2nd order forward difference.\n",
    "\n",
    "The final equation for f'(x):\n",
    "\n",
    "$f'(x)=\\frac{4f(x+\\Delta x)-3f(x)-f(x+2\\Delta x)}{2\\Delta x}$"
   ]
  },
  {
   "cell_type": "code",
   "execution_count": 24,
   "metadata": {},
   "outputs": [
    {
     "name": "stdout",
     "output_type": "stream",
     "text": [
      "forward difference\n",
      "derivative at 0.1 is -0.10033090204919493\n",
      "derivative at 1 is -0.8417409956931188\n",
      "derivative at 100 is 0.5059343973177199\n"
     ]
    },
    {
     "data": {
      "image/png": "[encoded data removed]",
      "text/plain": [
       "<Figure size 432x288 with 1 Axes>"
      ]
     },
     "metadata": {},
     "output_type": "display_data"
    },
    {
     "name": "stdout",
     "output_type": "stream",
     "text": [
      "relative error\n"
     ]
    },
    {
     "data": {
      "image/png": "[encoded data removed]",
      "text/plain": [
       "<Figure size 432x288 with 1 Axes>"
      ]
     },
     "metadata": {},
     "output_type": "display_data"
    },
    {
     "name": "stdout",
     "output_type": "stream",
     "text": [
      "central difference\n",
      "derivative at 0.1 is -0.09983340000796481\n",
      "derivative at 1 is -0.8414708445627084\n",
      "derivative at 100 is 0.5063655567179026\n"
     ]
    },
    {
     "data": {
      "image/png": "[encoded data removed]",
      "text/plain": [
       "<Figure size 432x288 with 1 Axes>"
      ]
     },
     "metadata": {},
     "output_type": "display_data"
    },
    {
     "name": "stdout",
     "output_type": "stream",
     "text": [
      "relative error\n"
     ]
    },
    {
     "data": {
      "image/png": "[encoded data removed]",
      "text/plain": [
       "<Figure size 432x288 with 1 Axes>"
      ]
     },
     "metadata": {},
     "output_type": "display_data"
    }
   ],
   "source": [
    "#differentiation\n",
    "#Q2\n",
    "#cos x\n",
    "import numpy as np\n",
    "import matplotlib.pyplot as plt\n",
    "import math as m\n",
    "h = 0.001\n",
    "x=[0.1,1,100]\n",
    "y=[0,0,0]\n",
    "print('forward difference')\n",
    "for i in [0,1,2]:\n",
    "     der = (np.cos(x[i]+h)-np.cos(x[i]))/h\n",
    "     y[i]=der\n",
    "     print ('derivative at '+str(x[i])+' is '+str(y[i]))\n",
    "#p=np.linspace(0,100,101)\n",
    "q=[np.linspace(0,0,10)]*3\n",
    "h=[m.pow(10,-1),m.pow(10,-2),m.pow(10,-3),m.pow(10,-4),m.pow(10,-5),m.pow(10,-6),pow(10,-7),pow(10,-8),pow(10,-9),pow(10,-10)]\n",
    "for j in range(3):\n",
    "    for i in range(0,10):\n",
    "        der = (np.cos(x[j]+h[i])-np.cos(x[j]))/h[i]\n",
    "        q[j][i]=der\n",
    "    plt.plot(h,q[j])\n",
    "    #plt.show\n",
    "plt.show()\n",
    "#relative error\n",
    "print('relative error')\n",
    "error=np.linspace(0,0,10)\n",
    "for j in range(0,2):\n",
    "    for i in range (10):\n",
    "        error[i]=(abs((-np.sin(x[j])-q[j][i])/(q[j][i])))\n",
    "    plt.plot(h,error)\n",
    "plt.show()\n",
    "#central difference\n",
    "h = 0.001\n",
    "x=[0.1,1,100]\n",
    "y=[0,0,0]\n",
    "print('central difference')\n",
    "for i in [0,1,2]:\n",
    "     der = (np.cos(x[i]+h)-np.cos(x[i]-h))/(2*h)\n",
    "     y[i]=der\n",
    "     print ('derivative at '+str(x[i])+' is '+str(y[i]))\n",
    "q=[np.linspace(0,0,10)]*3\n",
    "h=[m.pow(10,-1),m.pow(10,-2),m.pow(10,-3),m.pow(10,-4),m.pow(10,-5),m.pow(10,-6),pow(10,-7),pow(10,-8),pow(10,-9),pow(10,-10)]\n",
    "for j in range(3):\n",
    "    for i in range(0,10):\n",
    "        der = (np.cos(x[j]+h[i])-np.cos(x[j]-h[i]))/(2.0*h[i])\n",
    "        q[j][i]=der\n",
    "    plt.plot(h,q[j])\n",
    "    #plt.show\n",
    "plt.show()\n",
    "#relative error\n",
    "print('relative error')\n",
    "error=np.linspace(0,0,10)\n",
    "for j in range(0,2):\n",
    "    for i in range (10):\n",
    "        error[i]=(abs((-np.sin(x[j])-q[j][i])/(q[j][i])))\n",
    "    plt.plot(h,error)\n",
    "plt.show()\n"
   ]
  },
  {
   "cell_type": "code",
   "execution_count": 25,
   "metadata": {},
   "outputs": [
    {
     "name": "stdout",
     "output_type": "stream",
     "text": [
      "forward difference\n",
      "derivative at 0.1 is 1.1057236877758392\n",
      "derivative at 1 is 2.7196414225332255\n",
      "derivative at 100 is 2.6894616485312773e+43\n"
     ]
    },
    {
     "data": {
      "image/png": "[encoded data removed]",
      "text/plain": [
       "<Figure size 432x288 with 1 Axes>"
      ]
     },
     "metadata": {},
     "output_type": "display_data"
    },
    {
     "name": "stdout",
     "output_type": "stream",
     "text": [
      "relative error\n"
     ]
    },
    {
     "data": {
      "image/png": "[encoded data removed]",
      "text/plain": [
       "<Figure size 432x288 with 1 Axes>"
      ]
     },
     "metadata": {},
     "output_type": "display_data"
    },
    {
     "name": "stdout",
     "output_type": "stream",
     "text": [
      "central difference\n",
      "derivative at 0.1 is 1.1051711022708188\n",
      "derivative at 1 is 2.718282281505724\n",
      "derivative at 100 is 2.688117589848433e+43\n"
     ]
    },
    {
     "data": {
      "image/png": "[encoded data removed]",
      "text/plain": [
       "<Figure size 432x288 with 1 Axes>"
      ]
     },
     "metadata": {},
     "output_type": "display_data"
    },
    {
     "name": "stdout",
     "output_type": "stream",
     "text": [
      "relative error\n"
     ]
    },
    {
     "data": {
      "image/png": "[encoded data removed]",
      "text/plain": [
       "<Figure size 432x288 with 1 Axes>"
      ]
     },
     "metadata": {},
     "output_type": "display_data"
    }
   ],
   "source": [
    "#differentiation\n",
    "#Q2\n",
    "#e^t\n",
    "import numpy as np\n",
    "import matplotlib.pyplot as plt\n",
    "import math as m\n",
    "h = 0.001\n",
    "x=[0.1,1,100]\n",
    "y=[0,0,0]\n",
    "print('forward difference')\n",
    "for i in [0,1,2]:\n",
    "     der = (m.exp(x[i]+h)-m.exp(x[i]))/h\n",
    "     y[i]=der\n",
    "     print ('derivative at '+str(x[i])+' is '+str(y[i]))\n",
    "#p=np.linspace(0,100,101)\n",
    "q=[np.linspace(0,0,10)]*3\n",
    "h=[m.pow(10,-1),m.pow(10,-2),m.pow(10,-3),m.pow(10,-4),m.pow(10,-5),m.pow(10,-6),pow(10,-7),pow(10,-8),pow(10,-9),pow(10,-10)]\n",
    "for j in range(3):\n",
    "    for i in range(0,10):\n",
    "        der = (m.exp(x[j]+h[i])-m.exp(x[j]))/h[i]\n",
    "        q[j][i]=der\n",
    "    plt.plot(h,q[j])\n",
    "    #plt.show\n",
    "plt.show()\n",
    "#relative error\n",
    "print('relative error')\n",
    "error=np.linspace(0,0,10)\n",
    "for j in range(0,2):\n",
    "    for i in range (10):\n",
    "        error[i]=(abs((m.exp(x[j])-q[j][i])/(q[j][i])))\n",
    "    plt.plot(h,error)\n",
    "plt.show()\n",
    "#central difference\n",
    "h = 0.001\n",
    "x=[0.1,1,100]\n",
    "y=[0,0,0]\n",
    "print('central difference')\n",
    "for i in [0,1,2]:\n",
    "     der = (m.exp(x[i]+h)-m.exp(x[i]-h))/(2*h)\n",
    "     y[i]=der\n",
    "     print ('derivative at '+str(x[i])+' is '+str(y[i]))\n",
    "q=[np.linspace(0,0,10)]*3\n",
    "h=[m.pow(10,-1),m.pow(10,-2),m.pow(10,-3),m.pow(10,-4),m.pow(10,-5),m.pow(10,-6),pow(10,-7),pow(10,-8),pow(10,-9),pow(10,-10)]\n",
    "for j in range(3):\n",
    "    for i in range(0,10):\n",
    "        der = (m.exp(x[j]+h[i])-m.exp(x[j]-h[i]))/(2.0*h[i])\n",
    "        q[j][i]=der\n",
    "    plt.plot(h,q[j])\n",
    "    #plt.show\n",
    "plt.show()\n",
    "#relative error\n",
    "print('relative error')\n",
    "error=np.linspace(0,0,10)\n",
    "for j in range(0,2):\n",
    "    for i in range (10):\n",
    "        error[i]=(abs((m.exp(x[j])-q[j][i])/(q[j][i])))\n",
    "    plt.plot(h,error)\n",
    "plt.show()\n"
   ]
  },
  {
   "cell_type": "code",
   "execution_count": 103,
   "metadata": {},
   "outputs": [
    {
     "data": {
      "image/png": "[encoded data removed]",
      "text/plain": [
       "<Figure size 864x504 with 1 Axes>"
      ]
     },
     "metadata": {},
     "output_type": "display_data"
    },
    {
     "name": "stdout",
     "output_type": "stream",
     "text": [
      "guess from graph for theta is 0.1525\n",
      "Bisection method\n",
      "0.1526263427734375\n",
      "newton raphson method\n",
      "2\n",
      "0.15262642808762705\n",
      "secant method\n",
      "3\n",
      "0.15262642808762705\n"
     ]
    }
   ],
   "source": [
    "#root finding\n",
    "#Q1\n",
    "#Vo=10,yo=5m, go=10m/s^2\n",
    "#y=xtanA-(1/2)*g*x**2/(vo**2cos**2(A))=-5\n",
    "#x=(sin(A)+root(1+sin**2(A)))*10cos(A)\n",
    "import numpy as np\n",
    "import matplotlib.pyplot as plt\n",
    "import math as m\n",
    "def f(x):\n",
    "    return (m.sin(x)+np.sqrt(1+(np.sin(x))**2))*10*np.cos(x)-11.5\n",
    "x=np.linspace(0.15,0.17,1000)\n",
    "y=np.linspace(0,0,1000)\n",
    "for i in range(1000):\n",
    "   y[i]=f(x[i])\n",
    "plt.figure(figsize=(12,7))\n",
    "plt.plot(x,y)\n",
    "plt.xlabel('theta',size=0.5)\n",
    "plt.ylabel('x',size=0.1)\n",
    "plt.grid()\n",
    "plt.show()\n",
    "print('guess from graph for theta is 0.1525')\n",
    "print('Bisection method')\n",
    "a=0.1525\n",
    "b=0.1550\n",
    "z=(a+b)/2\n",
    "error=0.000001\n",
    "while(abs(f(z))>error):\n",
    "   if((f(z)*f(a))<0):\n",
    "       b=z\n",
    "   else:\n",
    "       a=z\n",
    "   z=(a+b)/2\n",
    "print(z)\n",
    "print('newton raphson method')\n",
    "x=0.1525\n",
    "def f1(x):\n",
    "   return (np.cos(x)+(np.sin(x)*np.cos(x))/(np.sqrt(1+np.sin(x)**2)))*10*np.cos(x)-(np.sin(x)+np.sqrt(1+np.sin(x)**2))*10*np.sin(x)\n",
    "error=10**(-25)\n",
    "n=0\n",
    "while(abs(f(x))>error and n<100):\n",
    "     x=x-f(x)/f1(x)\n",
    "     n=n+1\n",
    "print(n)\n",
    "print(x)\n",
    "print('secant method')\n",
    "a=0.1525\n",
    "b=0.1550\n",
    "x=a-(a-b)*f(a)/(f(a)-f(b))\n",
    "n=0\n",
    "while(abs(f(x))>error and n<100):\n",
    "     x=x-f(x)/f1(x)\n",
    "     n=n+1\n",
    "print(n)\n",
    "print(x)"
   ]
  },
  {
   "cell_type": "code",
   "execution_count": 52,
   "metadata": {},
   "outputs": [
    {
     "data": {
      "image/png": "[encoded data removed]",
      "text/plain": [
       "<Figure size 432x288 with 1 Axes>"
      ]
     },
     "metadata": {},
     "output_type": "display_data"
    },
    {
     "name": "stdout",
     "output_type": "stream",
     "text": [
      "Secant method\n",
      "11\n",
      "0.7070651860638435 3.391323222823317e-05\n"
     ]
    }
   ],
   "source": [
    "#root finding\n",
    "#Q2\n",
    "#I=Is*(exp(Vo/nVt)-1) and Vs=IR+Vo\n",
    "#given Is=2*10^(-15)A,Vt=26mV,n=1, Vs=2V,R=1kohm\n",
    "import numpy as np\n",
    "import matplotlib.pyplot as plt\n",
    "import math as m\n",
    "def f(x):\n",
    "    return -(2-2*m.pow(10,-15)*1*10**3*(np.exp(x/(26*10**(-3)))-1)-x)\n",
    "x=np.linspace(0.5,0.8,1000)\n",
    "plt.plot(x,f(x))\n",
    "plt.show()\n",
    "print('Secant method')\n",
    "a=0.5\n",
    "b=0.8\n",
    "error=0.001\n",
    "n1=0\n",
    "\n",
    "\n",
    "x=b+f(b)*(b-a)/(f(b)-f(a))\n",
    "while(abs(f(x))>error and n1<100):\n",
    "    a=b\n",
    "    b=x\n",
    "    x=b-f(b)*(b-a)/(f(b)-f(a))\n",
    "    n1=n1+1\n",
    "   \n",
    "\n",
    "print(n1)\n",
    "print(x,f(x))"
   ]
  },
  {
   "cell_type": "code",
   "execution_count": null,
   "metadata": {},
   "outputs": [],
   "source": []
  }
 ],
 "metadata": {
  "kernelspec": {
   "display_name": "Python 3",
   "language": "python",
   "name": "python3"
  },
  "language_info": {
   "codemirror_mode": {
    "name": "ipython",
    "version": 3
   },
   "file_extension": ".py",
   "mimetype": "text/x-python",
   "name": "python",
   "nbconvert_exporter": "python",
   "pygments_lexer": "ipython3",
   "version": "3.6.5"
  }
 },
 "nbformat": 4,
 "nbformat_minor": 2
}
