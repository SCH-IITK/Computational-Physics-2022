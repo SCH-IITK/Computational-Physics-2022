{
 "cells": [
  {
   "cell_type": "code",
   "execution_count": 1,
   "id": "5ad11601",
   "metadata": {},
   "outputs": [
    {
     "name": "stdout",
     "output_type": "stream",
     "text": [
      "1.8224538509055173 1.7224538509055165 1.7724538509055168\n"
     ]
    }
   ],
   "source": [
    "import numpy as np\n",
    "import math\n",
    "def f(x):\n",
    "    return math.exp(-(x*x))\n",
    "\n",
    "left=right=mid=0\n",
    "x=np.linspace(0,500,10001)\n",
    "for i in range(10000):\n",
    "    left=left+f(x[i])\n",
    "    right=right+f(x[i+1])\n",
    "    mid=mid+f((x[i]+x[i+1])/2)\n",
    "\n",
    "    \n",
    "left=2*(left*500/10000)\n",
    "right=2*(right*500/10000)\n",
    "mid=2*(mid*500/10000)\n",
    "\n",
    "print(left,right,mid)"
   ]
  },
  {
   "cell_type": "code",
   "execution_count": 2,
   "id": "59918fdf",
   "metadata": {},
   "outputs": [
    {
     "name": "stdout",
     "output_type": "stream",
     "text": [
      "1.7724538509055168\n"
     ]
    }
   ],
   "source": [
    "import numpy as np\n",
    "import math\n",
    "def f(x):\n",
    "    return math.exp(-(x*x))\n",
    "x=np.linspace(0,500,10001)\n",
    "\n",
    "I=0\n",
    "\n",
    "for i in range(10000):\n",
    "    I=I+(f(x[i])+f(x[i+1]))/2\n",
    "\n",
    "\n",
    "I=2*(I*500/10000)\n",
    "\n",
    "print(I)"
   ]
  },
  {
   "cell_type": "code",
   "execution_count": 4,
   "id": "acbd1d92",
   "metadata": {},
   "outputs": [
    {
     "name": "stdout",
     "output_type": "stream",
     "text": [
      "1.7724538509055154\n"
     ]
    }
   ],
   "source": [
    "import numpy as np\n",
    "import math\n",
    "def f(x):\n",
    "    return math.exp(-(x*x))\n",
    "x=np.linspace(0,500,10001)\n",
    "\n",
    "I=f(x[0])\n",
    "\n",
    "for i in range(1,10000,2):\n",
    "    I=I+(4*f(x[i])+2*f(x[i+1]))\n",
    "\n",
    "I=I-f(x[10000])\n",
    "I=2*(I*500/30000)\n",
    "\n",
    "print(I)"
   ]
  },
  {
   "cell_type": "code",
   "execution_count": 11,
   "id": "ef822513",
   "metadata": {},
   "outputs": [
    {
     "name": "stdout",
     "output_type": "stream",
     "text": [
      "3.1951778058748608 3.095084251513795 3.1451217180056648\n"
     ]
    }
   ],
   "source": [
    "import numpy as np\n",
    "\n",
    "def f(x):\n",
    "    return (np.sin(x))/x\n",
    "\n",
    "left=right=mid=0\n",
    "x=np.linspace(0.05,500,10000)\n",
    "for i in range(9999):\n",
    "    left=left+f(x[i])\n",
    "    right=right+f(x[i+1])\n",
    "    mid=mid+f((x[i]+x[i+1])/2)\n",
    "\n",
    "    \n",
    "left=2*(left*499.95/9999+(0.05))\n",
    "right=2*(right*499.95/9999+(f(x[0])*0.05))\n",
    "mid=2*(mid*499.95/9999+(((1+f(x[0]))/2*0.05)))\n",
    "\n",
    "print(left,right,mid)"
   ]
  },
  {
   "cell_type": "code",
   "execution_count": 15,
   "id": "79104553",
   "metadata": {},
   "outputs": [
    {
     "name": "stdout",
     "output_type": "stream",
     "text": [
      "3.1451310286942977\n"
     ]
    }
   ],
   "source": [
    "import numpy as np\n",
    "\n",
    "def f(x):\n",
    "    return (np.sin(x))/x\n",
    "x=np.linspace(0.05,500,10000)\n",
    "I=0\n",
    "\n",
    "for i in range(9999):\n",
    "    I=I+(f(x[i])+f(x[i+1]))/2\n",
    "\n",
    "\n",
    "I=2*(I*499.95/9999+(0.5*(1+f(x[0]))*0.05))\n",
    "\n",
    "print(I)\n",
    "\n"
   ]
  },
  {
   "cell_type": "code",
   "execution_count": 19,
   "id": "74f500de",
   "metadata": {},
   "outputs": [],
   "source": [
    "import numpy as np\n",
    "\n",
    "def f(x):\n",
    "    return (np.sin(x))/x\n",
    "x=np.linspace(0.05,500,10000)\n",
    "I=1\n",
    "\n",
    "for i in range(0,9999,2):\n",
    "    I=I+(4*f(x[i])+2*f(x[i+1]))\n",
    "\n",
    "I=I-f(x[9999])\n",
    "I=2*(I*499.95/(3*9999))\n"
   ]
  },
  {
   "cell_type": "code",
   "execution_count": null,
   "id": "e96a985c",
   "metadata": {},
   "outputs": [],
   "source": []
  },
  {
   "cell_type": "code",
   "execution_count": null,
   "id": "6092b1fc",
   "metadata": {},
   "outputs": [],
   "source": []
  }
 ],
 "metadata": {
  "kernelspec": {
   "display_name": "Python 3 (ipykernel)",
   "language": "python",
   "name": "python3"
  },
  "language_info": {
   "codemirror_mode": {
    "name": "ipython",
    "version": 3
   },
   "file_extension": ".py",
   "mimetype": "text/x-python",
   "name": "python",
   "nbconvert_exporter": "python",
   "pygments_lexer": "ipython3",
   "version": "3.9.12"
  }
 },
 "nbformat": 4,
 "nbformat_minor": 5
}
