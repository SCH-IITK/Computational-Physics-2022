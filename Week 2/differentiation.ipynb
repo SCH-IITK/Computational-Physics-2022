{
 "cells": [
  {
   "cell_type": "markdown",
   "id": "3e9d211a",
   "metadata": {},
   "source": [
    "# Numerical Differentiation\n",
    "We know how to calculate derivative of a function simply by \n",
    "$$ f'(x) = \\lim_{\\Delta x\\to\\infty} \\frac{f(x+x_0)-f(x)}{\\Delta x} $$ \n",
    "\n",
    "\n",
    "So we could approximate the derivative by taking the difference between two successive data points and dividing by the distance between them: \n",
    "\n",
    "$$f'_i \\approx \\frac{f_{i+1}-f_i}{\\Delta x}$$ \n",
    "\n"
   ]
  },
  {
   "cell_type": "code",
   "execution_count": 52,
   "id": "e802cfb2",
   "metadata": {},
   "outputs": [
    {
     "data": {
      "text/plain": [
       "-0.8417409956931188"
      ]
     },
     "execution_count": 52,
     "metadata": {},
     "output_type": "execute_result"
    }
   ],
   "source": [
    "#FD derivative of cosx at x =1\n",
    "import numpy as np\n",
    "h = 0.001\n",
    "der = (np.cos(1+h)-np.cos(1))/h\n",
    "der"
   ]
  },
  {
   "cell_type": "markdown",
   "id": "6d7c8c2e",
   "metadata": {},
   "source": [
    "This is the forward difference (FD) algorithm. The accuracy improves with decreasing h but we can also decrease the error through other methods.\n",
    "To find some of these better methods, let’s start with the Taylor expansion:\n",
    "\n",
    "$$f(x) = f(x_0) + (x − x_0)f'(x) + \\frac{(x-x_0)^2}{2!}f''(x) + \\frac{(x-x_0)^3}{3!} f'''(x) + ...$$\n",
    "\n",
    "or in discrete notation, $$f_{i+1} = f_i + (x_{i+1} − x_i)f'_i + \\frac{(x_{i+1}-x_i)^2}{2!}f''(x) + \\frac{(x_{i+1}-x_{i})^3}{3!} f'''(x) + ... $$\n",
    "$$= f_i + \\Delta x f'_i + \\frac{\\Delta x^2}{2!}f''_i + \\frac{\\Delta x^3}{3!}f'''_i + ...$$\n",
    "\n",
    "We can now see that the error in the FD algorithm goes as the power of $\\Delta x$. We could also use the Taylor expansion to approximate the function at $f_{i-1}$.  $$f_{i-1} = f_i - \\Delta x f'_i + \\frac{\\Delta x^2}{2!}f''_i - \\frac{\\Delta x^3}{3!}f'''_i + ...$$.\n",
    "\n",
    "Substracting the given two equation we get $$f_{i+1}-f_{i-1} = 2\\Delta f'_i + 2\\frac{\\Delta x^3}{6} f'''_i + ...$$. \n",
    "\n",
    "Solving for $f'(x)$ gives the formula for the centered difference (CD) scheme: $$f'_i \\approx \\frac{f_{i+1}-f_{i-1}}{2 \\Delta x}$$. \n",
    "\n",
    "Notice the error now goes as the power of $\\Delta x^2 $ and hence its called second-order CD scheme. If we use expansions with more terms, higher-order approximation schemes can be derived. Like \n",
    "\n",
    "$$f'_i = \\frac{1}{12 \\Delta x} (f_{i-2} - 8f_{i-1} + 8f_{i+1} - f_{i+2})$$ \n",
    "\n",
    "has error going as $\\Delta x^4$, hence fourth-order CD scheme.\n",
    "\n",
    "Higher derivatives are available by the same process. For example using equations for $f_{i+1}$ and $f_{i-1}$ we get the second derivative as \n",
    "\n",
    "$$f''_i \\approx \\frac{f_{i-1} -2f_i +f_{i+1}}{\\Delta x^2}$$\n",
    "\n",
    "and the error here goes as $\\Delta x^3$, hence third-order second derivative scheme. Similarily, we can get fifth-order second derivative as $$f''_i \\approx \\frac{1}{12 \\Delta x^2} (-f_{i-2} + 16f_{i-1} - 30f_i + 16f_{i+1} - f_{i+2})$$"
   ]
  },
  {
   "cell_type": "markdown",
   "id": "e04c6570",
   "metadata": {},
   "source": [
    "## Assignment"
   ]
  },
  {
   "cell_type": "markdown",
   "id": "a5748fab",
   "metadata": {},
   "source": [
    "1. Construct a second-order forward difference scheme. Use the markdown type of cell and try writing your answer in latex. We can also accept image of a hand-written solution uploaded in the cell.\n",
    "2. Use forward- and central-difference algorithms to differentiate the functions $cos(t)$ and $e^t$ at t = 0.1, 1., and 100. Plot the derivative and its relative error as functions of h. Explain what happens when you reduce h too much?\n"
   ]
  },
  {
   "cell_type": "code",
   "execution_count": null,
   "id": "db172637",
   "metadata": {},
   "outputs": [],
   "source": []
  }
 ],
 "metadata": {
  "kernelspec": {
   "display_name": "Python 3",
   "language": "python",
   "name": "python3"
  },
  "language_info": {
   "codemirror_mode": {
    "name": "ipython",
    "version": 3
   },
   "file_extension": ".py",
   "mimetype": "text/x-python",
   "name": "python",
   "nbconvert_exporter": "python",
   "pygments_lexer": "ipython3",
   "version": "3.8.8"
  }
 },
 "nbformat": 4,
 "nbformat_minor": 5
}
