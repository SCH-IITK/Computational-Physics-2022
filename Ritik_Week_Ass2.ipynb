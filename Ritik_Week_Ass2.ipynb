{
 "cells": [
  {
   "cell_type": "code",
   "execution_count": 11,
   "id": "a9c4ff7f",
   "metadata": {},
   "outputs": [
    {
     "name": "stdout",
     "output_type": "stream",
     "text": [
      "26\n",
      "0.15262642808762672 0.0\n"
     ]
    }
   ],
   "source": [
    "#Q1\n",
    "#Newton-Raphson method\n",
    "\n",
    "import numpy as np\n",
    "import math as mt\n",
    "\n",
    "def f1(ia):\n",
    "    return 10*np.cos(2*ia)-10*np.sin(ia)*np.sqrt((np.sin(ia))**2+1)+(5*np.cos(ia)*np.cos(2*ia))/np.sqrt((np.sin(ia))**2+1)\n",
    "\n",
    "def f(p):\n",
    "    return 5*np.sin(2*p)+10*np.cos(p)*np.sqrt((np.sin(p))**2+1)-11.5\n",
    "\n",
    "n1=0\n",
    "error=10**-20\n",
    "x=0\n",
    "\n",
    "while((abs(f(x))>error) and (n1<100)):\n",
    "    x1=x-f(x)/f1(x)\n",
    "    x=x1\n",
    "    n1=n1+1\n",
    "\n",
    "print(n1)\n",
    "print(x,f(x))"
   ]
  },
  {
   "cell_type": "code",
   "execution_count": 45,
   "id": "7432fb6e",
   "metadata": {
    "scrolled": true
   },
   "outputs": [
    {
     "data": {
      "image/png": "[encoded data removed]",
      "text/plain": [
       "<Figure size 432x288 with 1 Axes>"
      ]
     },
     "metadata": {
      "needs_background": "light"
     },
     "output_type": "display_data"
    }
   ],
   "source": [
    "#Q2\n",
    "#P.D across diode when current I passes through it\n",
    "\n",
    "import matplotlib.pyplot as plt\n",
    "import numpy as np\n",
    "\n",
    "\n",
    "xlist = np.linspace(0, 2*10**-3, 100)\n",
    "def r(t):\n",
    "  return 0.026*(np.log((t/(2*10**-15))+1))\n",
    "                \n",
    "ylist=r(xlist)\n",
    "plt.plot(xlist,ylist)\n",
    "plt.ylabel(\"P.D\",size=15)\n",
    "plt.xlabel(\"Current\",size=15)\n",
    "\n",
    "plt.grid()\n",
    "plt.show()"
   ]
  },
  {
   "cell_type": "code",
   "execution_count": 67,
   "id": "06dea9b7",
   "metadata": {},
   "outputs": [
    {
     "data": {
      "image/png": "[encoded data removed]",
      "text/plain": [
       "<Figure size 432x288 with 1 Axes>"
      ]
     },
     "metadata": {
      "needs_background": "light"
     },
     "output_type": "display_data"
    }
   ],
   "source": [
    "import matplotlib.pyplot as plt\n",
    "import numpy as np\n",
    "import math as mt\n",
    "\n",
    "\n",
    "vlist = np.linspace(0.7, 0.8, 10000)\n",
    "flist = vlist+2*(10**-13)*(mt.e**(vlist/(26*(10**-3))-1))-2               \n",
    "\n",
    "\n",
    "plt.plot(vlist,flist)\n",
    "\n",
    "plt.grid()\n",
    "plt.show()"
   ]
  },
  {
   "cell_type": "code",
   "execution_count": 70,
   "id": "6914448a",
   "metadata": {},
   "outputs": [
    {
     "name": "stdout",
     "output_type": "stream",
     "text": [
      "100\n",
      "0.8598582780763642 -0.4337331405711926\n"
     ]
    }
   ],
   "source": [
    "import matplotlib.pyplot as plt\n",
    "import numpy as np\n",
    "import math as mt\n",
    "\n",
    "\n",
    "def f1(p):\n",
    "    return 1+2*(10**-13)*(mt.e**(p/(26*(10**-3))))*(1/(26*10**-3))\n",
    "\n",
    "n1=0\n",
    "error=10**-14\n",
    "x=0.78\n",
    "fx = x+2*(10**-13)*(mt.e**(x/(26*(10**-3))-1))-2 \n",
    "\n",
    "while((abs(fx)>error) and (n1<100)):\n",
    "    x1=x-fx/f1(x)\n",
    "    x=x1\n",
    "    n1=n1+1\n",
    "    \n",
    "print(n1)\n",
    "print(x,fx)"
   ]
  },
  {
   "cell_type": "markdown",
   "id": "732d2aad",
   "metadata": {},
   "source": [
    "\n",
    "**Second order forward difference approximation:** \n",
    "\n",
    "\n",
    "\n",
    "**Derivation:**\n",
    "\n",
    "From Taylor Series expansion:\n",
    "\n",
    "$ f(x + \\Delta x) = f(x)+ \\Delta xf'(x)+ \\Delta x^2 \\dfrac{f''(x)}{2!}+ \\Delta x^3 \\dfrac{f'''(x)}{3!}+ \\Delta x^4 \\dfrac{f^{(4)}(x)}{4!}+ \\Delta x^2 \\dfrac{f^(5)(x)}{5!}$\n",
    "\n",
    "$ f(x - \\Delta x) = f(x)- \\Delta xf'(x)+ \\Delta x^2 \\dfrac{f''(x)}{2!}- \\Delta x^3 \\dfrac{f'''(x)}{3!}+ \\Delta x^4 \\dfrac{f^{(4)}(x)}{4!}- \\Delta x^2 \\dfrac{f^(5)(x)}{5!}$\n",
    "\n",
    "$ f(x + 2\\Delta x) = f(x)+ 2\\Delta xf'(x)+ 4\\Delta x^2 \\dfrac{f''(x)}{2!}+ 8\\Delta x^3 \\dfrac{f'''(x)}{3!}+ 16\\Delta x^4 \\dfrac{f^{(4)}(x)}{4!}+ 32\\Delta x^5 \\dfrac{f^(5)(x)}{5!}$\n",
    "\n",
    "$ f(x -2\\Delta x) = f(x)- 2\\Delta xf'(x)+ 4\\Delta x^2 \\dfrac{f''(x)}{2!}- 8\\Delta x^3 \\dfrac{f'''(x)}{3!}+ 16\\Delta x^4 \\dfrac{f^{(4)}(x)}{4!}- 32\\Delta x^5 \\dfrac{f^(5)(x)}{5!}$\n",
    "\n",
    "By solving above equations we can get:\n",
    "\n",
    "$$ f''(x)  = \\dfrac {2f(x) − 5f(x + \\Delta x) + 4f(x + 2\\Delta x) − f(x + 3\\Delta x)} {\\Delta x^3} $$\n",
    "\n",
    "\n",
    "     \n",
    "\n",
    "\n",
    " \n",
    "\n"
   ]
  },
  {
   "cell_type": "code",
   "execution_count": 29,
   "id": "a229c2e5",
   "metadata": {
    "scrolled": true
   },
   "outputs": [
    {
     "name": "stdout",
     "output_type": "stream",
     "text": [
      "-0.10033090204919493\n",
      "-0.09983340000796481\n",
      "-0.8417409956931188\n",
      "-0.8414708445627084\n",
      "0.5059343973177199\n",
      "0.5063655567179026\n",
      "1.1057236877758392\n",
      "1.1051711022708188\n",
      "2.7196414225332255\n",
      "2.718282281505724\n",
      "2.6894616485312773e+43\n",
      "2.688117589848433e+43\n"
     ]
    }
   ],
   "source": [
    "#Numerical Differentiation\n",
    "#Q2\n",
    "\n",
    "\"\"\" cos(t) \"\"\"\n",
    "#At t=0.1\n",
    "#Forward Difference algorithm\n",
    "import matplotlib.pyplot as plt\n",
    "import numpy as np\n",
    "h = 10**-3\n",
    "der = (np.cos(0.1+h)-np.cos(0.1))/h\n",
    "print (der)\n",
    "\n",
    "#Centered Difference algorithm\n",
    "der2 = (np.cos(0.1+h)-np.cos(0.1-h))/(2*h)\n",
    "print (der2)\n",
    "\n",
    "\n",
    "#At t=1\n",
    "#Forward Difference algorithm\n",
    "der3 = (np.cos(1+h)-np.cos(1))/h\n",
    "print (der3)\n",
    "\n",
    "#Centered Difference algorithm\n",
    "der4 = (np.cos(1+h)-np.cos(1-h))/(2*h)\n",
    "print (der4)\n",
    "\n",
    "#At t=100\n",
    "#Forward Difference algorithm\n",
    "h = 10**-3\n",
    "der5 = (np.cos(100+h)-np.cos(100))/h\n",
    "print (der5)\n",
    "\n",
    "#Centered Difference algorithm\n",
    "der6 =(np.cos(100+h)-np.cos(100-h))/(2*h)\n",
    "print (der6)\n",
    "\n",
    "\n",
    "\n",
    "\"\"\" exp(t) \"\"\"\n",
    "#At t=0.1\n",
    "#Forward Difference algorithm\n",
    "import matplotlib.pyplot as plt\n",
    "import numpy as np\n",
    "import math as mt\n",
    "h = 10**-3\n",
    "der7 = (mt.exp(0.1+h)-mt.exp(0.1))/h\n",
    "print (der7)\n",
    "\n",
    "#Centered Difference algorithm\n",
    "der8 = (mt.exp(0.1+h)-mt.exp(0.1-h))/(2*h)\n",
    "print (der8)\n",
    "\n",
    "\n",
    "#At t=1\n",
    "#Forward Difference algorithm\n",
    "der9 = (mt.exp(1+h)-mt.exp(1))/h\n",
    "print (der9)\n",
    "\n",
    "#Centered Difference algorithm\n",
    "der10 = (mt.exp(1+h)-mt.exp(1-h))/(2*h)\n",
    "print (der10)\n",
    "\n",
    "#At t=100\n",
    "#Forward Difference algorithm\n",
    "h = 10**-3\n",
    "der11 = (mt.exp(100+h)-mt.exp(100))/h\n",
    "print (der11)\n",
    "\n",
    "#Centered Difference algorithm\n",
    "der12 =(mt.exp(100+h)-mt.exp(100-h))/(2*h)\n",
    "print (der12)"
   ]
  },
  {
   "cell_type": "code",
   "execution_count": null,
   "id": "d26bbfb5",
   "metadata": {},
   "outputs": [],
   "source": []
  },
  {
   "cell_type": "code",
   "execution_count": 1,
   "id": "c0f5982d",
   "metadata": {},
   "outputs": [
    {
     "data": {
      "text/plain": [
       "' If we keep decresing the value of h, then the difference between fd and cd is also keep decreasing\\n'"
      ]
     },
     "execution_count": 1,
     "metadata": {},
     "output_type": "execute_result"
    }
   ],
   "source": [
    "\"\"\" If we keep decresing the value of h, then the difference between fd and cd is also keep decreasing\n",
    "\"\"\""
   ]
  },
  {
   "cell_type": "code",
   "execution_count": 51,
   "id": "3a490475",
   "metadata": {},
   "outputs": [
    {
     "name": "stdout",
     "output_type": "stream",
     "text": [
      "1.772453850905513\n",
      "3.136466245645224\n"
     ]
    }
   ],
   "source": [
    "#Integration\n",
    "#Assignment\n",
    "import numpy as np\n",
    "import math as mt\n",
    "def f1(ia):\n",
    "    return mt.exp(-ia**2)\n",
    "def f2(p):\n",
    "    return (np.sin(p))/p\n",
    "\n",
    "x=np.linspace(-1000,1000,1000001)\n",
    "\n",
    "I=0\n",
    "for i in range(1000000):\n",
    "    I=I+(f1(x[i])+f1(x[i+1]))/2\n",
    "\n",
    "I=I*2000/1000000\n",
    "print(I)\n",
    "    \n",
    "y=np.linspace(-1000,1000,1000001)\n",
    "IA=0\n",
    "for i in range(499999):\n",
    "    IA=IA+(f2(y[i])+f2(y[i+1]))/2\n",
    "for i in range(500001,1000000):\n",
    "    IA=IA+(f2(y[i])+f2(y[i+1]))/2\n",
    "IA=IA*2000/1000000\n",
    "print(IA)"
   ]
  }
 ],
 "metadata": {
  "kernelspec": {
   "display_name": "Python 3 (ipykernel)",
   "language": "python",
   "name": "python3"
  },
  "language_info": {
   "codemirror_mode": {
    "name": "ipython",
    "version": 3
   },
   "file_extension": ".py",
   "mimetype": "text/x-python",
   "name": "python",
   "nbconvert_exporter": "python",
   "pygments_lexer": "ipython3",
   "version": "3.9.12"
  }
 },
 "nbformat": 4,
 "nbformat_minor": 5
}
