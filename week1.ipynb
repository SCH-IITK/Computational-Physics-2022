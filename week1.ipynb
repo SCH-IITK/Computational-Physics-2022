{
 "cells": [
  {
   "cell_type": "markdown",
   "id": "0c969e56",
   "metadata": {},
   "source": [
    "#### Question 1 : Write a NumPy program to reverse an array (first element becomes last)."
   ]
  },
  {
   "cell_type": "code",
   "execution_count": 1,
   "id": "af4367c9",
   "metadata": {},
   "outputs": [
    {
     "name": "stdout",
     "output_type": "stream",
     "text": [
      "[1 2 3 4 5]\n",
      "[5 4 3 2 1]\n"
     ]
    }
   ],
   "source": [
    "import numpy as np\n",
    "\n",
    "#arrin will be our input numpy array\n",
    "#arrin = np.array([1,2,3,4,5])\n",
    "arrout = arrin[::-1]\n",
    "print(arrin)\n",
    "print(arrout)"
   ]
  },
  {
   "cell_type": "markdown",
   "id": "233bbf25",
   "metadata": {},
   "source": [
    "#### Question 2 : Write a NumPy program for finding the determinant of the 3D input matrix."
   ]
  },
  {
   "cell_type": "code",
   "execution_count": 8,
   "id": "44b38746",
   "metadata": {},
   "outputs": [
    {
     "name": "stdout",
     "output_type": "stream",
     "text": [
      "0\n"
     ]
    }
   ],
   "source": [
    "import numpy as np\n",
    "#matin will be our input matrix\n",
    "#matin = np.array([[1, 2, 3],[4, 5, 6],[7, 8, 9]])\n",
    "det = np.linalg.det(matin)\n",
    "print(int(det))"
   ]
  },
  {
   "cell_type": "markdown",
   "id": "339f586c",
   "metadata": {},
   "source": [
    "#### Question 3 : An electric field is given by $\\textbf{E} (z,t) = E_0 cos(z-t) \\hat{x} + 2E_0 cos(z-t+\\frac{\\pi}{2}) \\hat{y} $\n",
    "#### 1. Find the magnetic field for $z  \\in [0,4\\pi]$ and $t \\in [0,10]$ with 100 points each.\n",
    "#### 2. Compute the Poynting vector for the same.\n"
   ]
  },
  {
   "cell_type": "code",
   "execution_count": null,
   "id": "63c50351",
   "metadata": {},
   "outputs": [],
   "source": []
  },
  {
   "cell_type": "markdown",
   "id": "6c32c10f",
   "metadata": {},
   "source": [
    "#### Question 4 : Consider the situation shown below \n",
    "#### For given $v_0=10 m , y_0=5 m, g_0=10 m/s^2$ , graphically find the value of $\\theta$ for which $x=11.5 m$.\n",
    "#### Hint : Plot $x$ vs $theta$"
   ]
  },
  {
   "cell_type": "code",
   "execution_count": null,
   "id": "efb13c1d",
   "metadata": {},
   "outputs": [],
   "source": []
  },
  {
   "cell_type": "markdown",
   "id": "81ea690d",
   "metadata": {},
   "source": [
    "#### Question 5 : The wavefunction of a particle in 2D box is given by \n",
    "#### Plot this wavefunction for different values of $n_x$ and $n_y$. You can take $L_x=2\\pi$m and $L_x=3\\pi$m"
   ]
  },
  {
   "cell_type": "code",
   "execution_count": null,
   "id": "e10e223d",
   "metadata": {},
   "outputs": [],
   "source": []
  }
 ],
 "metadata": {
  "kernelspec": {
   "display_name": "Python 3 (ipykernel)",
   "language": "python",
   "name": "python3"
  },
  "language_info": {
   "codemirror_mode": {
    "name": "ipython",
    "version": 3
   },
   "file_extension": ".py",
   "mimetype": "text/x-python",
   "name": "python",
   "nbconvert_exporter": "python",
   "pygments_lexer": "ipython3",
   "version": "3.9.12"
  }
 },
 "nbformat": 4,
 "nbformat_minor": 5
}
