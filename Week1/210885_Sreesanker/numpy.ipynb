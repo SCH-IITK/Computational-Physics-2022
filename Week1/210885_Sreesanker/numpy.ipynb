{
 "cells": [
  {
   "cell_type": "markdown",
   "metadata": {},
   "source": [
    "# NUMPY Q1"
   ]
  },
  {
   "cell_type": "code",
   "execution_count": null,
   "metadata": {},
   "outputs": [],
   "source": [
    "import numpy as np\n",
    "A=[2,3,5,2,7]\n",
    "D=A[::-1]\n",
    "print(D)\n"
   ]
  },
  {
   "cell_type": "markdown",
   "metadata": {},
   "source": [
    "# NUMPY Q2"
   ]
  },
  {
   "cell_type": "code",
   "execution_count": null,
   "metadata": {},
   "outputs": [],
   "source": [
    "import numpy as np\n",
    "import numpy.linalg as la\n",
    "\n",
    "x=int(input('Enter x dimension '))\n",
    "y=int(input('Enter y dimension '))\n",
    "z=int(input('Enter z dimension '))\n",
    "\n",
    "A=np.zeros((x,y,z),dtype=float)\n",
    "\n",
    "for i in range(x):\n",
    "    for j in range(y):\n",
    "        for k in range(z):\n",
    "            print('enter element with index',i,j,k)\n",
    "            A[i,j,k]=float(input())\n",
    "\n",
    "\n",
    "print('the input matrix is \\n',A) \n",
    "\n",
    "\n",
    " \n",
    "def getcofactor(m, i, j):\n",
    "    return [row[: j] + row[j+1:] for row in (m[: i] + m[i+1:])]\n",
    "\n",
    "def determinantOfMatrix(mat):\n",
    "    tdet=[]\n",
    "    for a in range(x):\n",
    " \n",
    "        if(len(mat) == 2):\n",
    "            value = mat[a][0][0] * mat[a][1][1] - mat[a][1][0] * mat[a][0][1]\n",
    "            tdet.append(value)\n",
    "        else:\n",
    "            Sum = 0\n",
    "            for current_column in range(len(mat)):\n",
    "                sign = (-1) ** (current_column)\n",
    "                sub_det = determinantOfMatrix(getcofactor(mat, 0, current_column))\n",
    "                Sum += (sign * mat[0][current_column] * sub_det)\n",
    "            tdet.append(Sum)\n",
    "    return tdet\n",
    "\n",
    "d=determinantOfMatrix(A)\n",
    "print('the determinant is: \\n', d)"
   ]
  },
  {
   "cell_type": "markdown",
   "metadata": {},
   "source": [
    "# NUMPY Q3"
   ]
  },
  {
   "cell_type": "code",
   "execution_count": null,
   "metadata": {},
   "outputs": [],
   "source": [
    "import numpy as np\n",
    "\n",
    "from matplotlib import pyplot as plt\n",
    "\n",
    "from mpl_toolkits import mplot3d\n",
    "\n",
    "\n",
    "from math import pi\n",
    "Lx=2*pi\n",
    "Ly=3*pi\n",
    "\n",
    "def f(x, y):\n",
    "    return (2/sqrt(Lx*Ly)) * np.sin(x) * np.sin(y)\n",
    "\n",
    "from math import sqrt\n",
    "x = np.linspace(-5, 5, 100)\n",
    "y = np.linspace(-5, 5, 100)\n",
    "\n",
    "z = f(x,y)\n",
    "\n",
    "fig = plt.figure()\n",
    "ax = fig.add_subplot(projection='3d')\n",
    "ax.set_title('Surface Plot')\n",
    "\n",
    "#drawing surface plot\n",
    "surface_plot = ax.plot_surface(x, y, z)\n",
    "\n",
    "plt.show()"
   ]
  },
  {
   "cell_type": "markdown",
   "metadata": {},
   "source": [
    "# MATHPLOT Q1"
   ]
  },
  {
   "cell_type": "markdown",
   "metadata": {},
   "source": [
    "# "
   ]
  },
  {
   "cell_type": "code",
   "execution_count": 3,
   "metadata": {},
   "outputs": [
    {
     "ename": "ModuleNotFoundError",
     "evalue": "No module named 'matplotlib'",
     "output_type": "error",
     "traceback": [
      "\u001b[1;31m---------------------------------------------------------------------------\u001b[0m",
      "\u001b[1;31mModuleNotFoundError\u001b[0m                       Traceback (most recent call last)",
      "\u001b[1;32mc:\\Users\\Sree\\Documents\\numpy.ipynb Cell 9'\u001b[0m in \u001b[0;36m<cell line: 3>\u001b[1;34m()\u001b[0m\n\u001b[0;32m      <a href='vscode-notebook-cell:/c%3A/Users/Sree/Documents/numpy.ipynb#ch0000008?line=0'>1</a>\u001b[0m \u001b[39mimport\u001b[39;00m \u001b[39mnumpy\u001b[39;00m \u001b[39mas\u001b[39;00m \u001b[39mnp\u001b[39;00m\n\u001b[1;32m----> <a href='vscode-notebook-cell:/c%3A/Users/Sree/Documents/numpy.ipynb#ch0000008?line=2'>3</a>\u001b[0m \u001b[39mfrom\u001b[39;00m \u001b[39mmatplotlib\u001b[39;00m \u001b[39mimport\u001b[39;00m pyplot \u001b[39mas\u001b[39;00m plt\n\u001b[0;32m      <a href='vscode-notebook-cell:/c%3A/Users/Sree/Documents/numpy.ipynb#ch0000008?line=4'>5</a>\u001b[0m \u001b[39mfrom\u001b[39;00m \u001b[39mmpl_toolkits\u001b[39;00m \u001b[39mimport\u001b[39;00m mplot3d\n\u001b[0;32m      <a href='vscode-notebook-cell:/c%3A/Users/Sree/Documents/numpy.ipynb#ch0000008?line=7'>8</a>\u001b[0m \u001b[39mfrom\u001b[39;00m \u001b[39mmath\u001b[39;00m \u001b[39mimport\u001b[39;00m pi\n",
      "\u001b[1;31mModuleNotFoundError\u001b[0m: No module named 'matplotlib'"
     ]
    }
   ],
   "source": [
    "\n",
    "import numpy as np\n",
    "\n",
    "from matplotlib import pyplot as plt\n",
    "\n",
    "from mpl_toolkits import mplot3d\n",
    "\n",
    "\n",
    "from math import pi\n",
    "Lx=2*pi\n",
    "Ly=3*pi\n",
    "\n",
    "def f(x, y):\n",
    "    return (2/sqrt(Lx*Ly)) * np.sin(x) * np.sin(y)\n",
    "\n",
    "from math import sqrt\n",
    "x = np.linspace(-5, 5, 100)\n",
    "y = np.linspace(-5, 5, 100)\n",
    "\n",
    "z = f(x,y)\n",
    "\n",
    "fig = plt.figure()\n",
    "ax = fig.add_subplot(projection='3d')\n",
    "ax.set_title('Surface Plot')\n",
    "\n",
    "#drawing surface plot\n",
    "surface_plot = ax.plot_surface(x, y, z)\n",
    "\n",
    "plt.show()"
   ]
  }
 ],
 "metadata": {
  "interpreter": {
   "hash": "6c04a9c8aa6963b9a970c40a6ca7b82aae05e7bdf1b229b804e5f3f06ffd033d"
  },
  "kernelspec": {
   "display_name": "Python 3.10.4 64-bit",
   "language": "python",
   "name": "python3"
  },
  "language_info": {
   "codemirror_mode": {
    "name": "ipython",
    "version": 3
   },
   "file_extension": ".py",
   "mimetype": "text/x-python",
   "name": "python",
   "nbconvert_exporter": "python",
   "pygments_lexer": "ipython3",
   "version": "3.10.4"
  },
  "orig_nbformat": 4
 },
 "nbformat": 4,
 "nbformat_minor": 2
}
