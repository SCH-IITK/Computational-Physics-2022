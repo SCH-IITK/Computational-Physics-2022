{
 "cells": [
  {
   "cell_type": "code",
   "execution_count": null,
   "id": "831a6a27",
   "metadata": {},
   "outputs": [
    {
     "name": "stdout",
     "output_type": "stream",
     "text": [
      "Input E0 :3\n"
     ]
    }
   ],
   "source": [
    "import numpy as np\n",
    "import math\n",
    "E=input(\"Input E0 :\")\n",
    "z=np.linspace(0,4*math.pi,100)\n",
    "t=np.linspace(0,10,100)\n",
    "c=3*pow(10,8)\n",
    "k=[]\n",
    "plane=[]\n",
    "array=[]\n",
    "\n",
    "for i in range(100):\n",
    "    for j in range(100):\n",
    "        k.append(z[i])\n",
    "        k.append(t[j])\n",
    "        k.append((float(E))*2*np.sin(z[i]-t[j]))\n",
    "        k.append((float(E))*np.cos(z[i]-t[j]))\n",
    "        plane.append(k)\n",
    "    array.append(plane)\n",
    "print(array)\n",
    "    \n",
    "    \n",
    "    \n",
    "    \n",
    "    \n",
    "    \n",
    "    \n"
   ]
  },
  {
   "cell_type": "code",
   "execution_count": null,
   "id": "4230c664",
   "metadata": {},
   "outputs": [],
   "source": []
  }
 ],
 "metadata": {
  "kernelspec": {
   "display_name": "Python 3 (ipykernel)",
   "language": "python",
   "name": "python3"
  },
  "language_info": {
   "codemirror_mode": {
    "name": "ipython",
    "version": 3
   },
   "file_extension": ".py",
   "mimetype": "text/x-python",
   "name": "python",
   "nbconvert_exporter": "python",
   "pygments_lexer": "ipython3",
   "version": "3.9.12"
  }
 },
 "nbformat": 4,
 "nbformat_minor": 5
}
